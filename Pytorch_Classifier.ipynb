{
  "cells": [
    {
      "cell_type": "markdown",
      "source": [
        "#Lectura de datos"
      ],
      "metadata": {
        "id": "s1Tx7xPo0D_S"
      }
    },
    {
      "cell_type": "code",
      "source": [
        "from google.colab import drive\n",
        "drive.mount('/content/drive')"
      ],
      "metadata": {
        "colab": {
          "base_uri": "https://localhost:8080/"
        },
        "id": "1FoqxoSevdd9",
        "outputId": "9cba8c25-155c-4ef8-8e4a-5817ed1a422c"
      },
      "execution_count": null,
      "outputs": [
        {
          "output_type": "stream",
          "name": "stdout",
          "text": [
            "Mounted at /content/drive\n"
          ]
        }
      ]
    },
    {
      "cell_type": "code",
      "execution_count": null,
      "metadata": {
        "colab": {
          "base_uri": "https://localhost:8080/",
          "height": 206
        },
        "id": "eS85ivexvVMy",
        "outputId": "7fe748b3-30e6-483b-999c-67790527c55d"
      },
      "outputs": [
        {
          "output_type": "execute_result",
          "data": {
            "text/plain": [
              "   CulmenLength  CulmenDepth  FlipperLength  BodyMass  Species\n",
              "0          39.1         18.7          181.0    3750.0        0\n",
              "1          39.5         17.4          186.0    3800.0        0\n",
              "2          40.3         18.0          195.0    3250.0        0\n",
              "4          36.7         19.3          193.0    3450.0        0\n",
              "5          39.3         20.6          190.0    3650.0        0"
            ],
            "text/html": [
              "\n",
              "  <div id=\"df-19323923-bdb5-4a88-8c60-eee990592d13\" class=\"colab-df-container\">\n",
              "    <div>\n",
              "<style scoped>\n",
              "    .dataframe tbody tr th:only-of-type {\n",
              "        vertical-align: middle;\n",
              "    }\n",
              "\n",
              "    .dataframe tbody tr th {\n",
              "        vertical-align: top;\n",
              "    }\n",
              "\n",
              "    .dataframe thead th {\n",
              "        text-align: right;\n",
              "    }\n",
              "</style>\n",
              "<table border=\"1\" class=\"dataframe\">\n",
              "  <thead>\n",
              "    <tr style=\"text-align: right;\">\n",
              "      <th></th>\n",
              "      <th>CulmenLength</th>\n",
              "      <th>CulmenDepth</th>\n",
              "      <th>FlipperLength</th>\n",
              "      <th>BodyMass</th>\n",
              "      <th>Species</th>\n",
              "    </tr>\n",
              "  </thead>\n",
              "  <tbody>\n",
              "    <tr>\n",
              "      <th>0</th>\n",
              "      <td>39.1</td>\n",
              "      <td>18.7</td>\n",
              "      <td>181.0</td>\n",
              "      <td>3750.0</td>\n",
              "      <td>0</td>\n",
              "    </tr>\n",
              "    <tr>\n",
              "      <th>1</th>\n",
              "      <td>39.5</td>\n",
              "      <td>17.4</td>\n",
              "      <td>186.0</td>\n",
              "      <td>3800.0</td>\n",
              "      <td>0</td>\n",
              "    </tr>\n",
              "    <tr>\n",
              "      <th>2</th>\n",
              "      <td>40.3</td>\n",
              "      <td>18.0</td>\n",
              "      <td>195.0</td>\n",
              "      <td>3250.0</td>\n",
              "      <td>0</td>\n",
              "    </tr>\n",
              "    <tr>\n",
              "      <th>4</th>\n",
              "      <td>36.7</td>\n",
              "      <td>19.3</td>\n",
              "      <td>193.0</td>\n",
              "      <td>3450.0</td>\n",
              "      <td>0</td>\n",
              "    </tr>\n",
              "    <tr>\n",
              "      <th>5</th>\n",
              "      <td>39.3</td>\n",
              "      <td>20.6</td>\n",
              "      <td>190.0</td>\n",
              "      <td>3650.0</td>\n",
              "      <td>0</td>\n",
              "    </tr>\n",
              "  </tbody>\n",
              "</table>\n",
              "</div>\n",
              "    <div class=\"colab-df-buttons\">\n",
              "\n",
              "  <div class=\"colab-df-container\">\n",
              "    <button class=\"colab-df-convert\" onclick=\"convertToInteractive('df-19323923-bdb5-4a88-8c60-eee990592d13')\"\n",
              "            title=\"Convert this dataframe to an interactive table.\"\n",
              "            style=\"display:none;\">\n",
              "\n",
              "  <svg xmlns=\"http://www.w3.org/2000/svg\" height=\"24px\" viewBox=\"0 -960 960 960\">\n",
              "    <path d=\"M120-120v-720h720v720H120Zm60-500h600v-160H180v160Zm220 220h160v-160H400v160Zm0 220h160v-160H400v160ZM180-400h160v-160H180v160Zm440 0h160v-160H620v160ZM180-180h160v-160H180v160Zm440 0h160v-160H620v160Z\"/>\n",
              "  </svg>\n",
              "    </button>\n",
              "\n",
              "  <style>\n",
              "    .colab-df-container {\n",
              "      display:flex;\n",
              "      gap: 12px;\n",
              "    }\n",
              "\n",
              "    .colab-df-convert {\n",
              "      background-color: #E8F0FE;\n",
              "      border: none;\n",
              "      border-radius: 50%;\n",
              "      cursor: pointer;\n",
              "      display: none;\n",
              "      fill: #1967D2;\n",
              "      height: 32px;\n",
              "      padding: 0 0 0 0;\n",
              "      width: 32px;\n",
              "    }\n",
              "\n",
              "    .colab-df-convert:hover {\n",
              "      background-color: #E2EBFA;\n",
              "      box-shadow: 0px 1px 2px rgba(60, 64, 67, 0.3), 0px 1px 3px 1px rgba(60, 64, 67, 0.15);\n",
              "      fill: #174EA6;\n",
              "    }\n",
              "\n",
              "    .colab-df-buttons div {\n",
              "      margin-bottom: 4px;\n",
              "    }\n",
              "\n",
              "    [theme=dark] .colab-df-convert {\n",
              "      background-color: #3B4455;\n",
              "      fill: #D2E3FC;\n",
              "    }\n",
              "\n",
              "    [theme=dark] .colab-df-convert:hover {\n",
              "      background-color: #434B5C;\n",
              "      box-shadow: 0px 1px 3px 1px rgba(0, 0, 0, 0.15);\n",
              "      filter: drop-shadow(0px 1px 2px rgba(0, 0, 0, 0.3));\n",
              "      fill: #FFFFFF;\n",
              "    }\n",
              "  </style>\n",
              "\n",
              "    <script>\n",
              "      const buttonEl =\n",
              "        document.querySelector('#df-19323923-bdb5-4a88-8c60-eee990592d13 button.colab-df-convert');\n",
              "      buttonEl.style.display =\n",
              "        google.colab.kernel.accessAllowed ? 'block' : 'none';\n",
              "\n",
              "      async function convertToInteractive(key) {\n",
              "        const element = document.querySelector('#df-19323923-bdb5-4a88-8c60-eee990592d13');\n",
              "        const dataTable =\n",
              "          await google.colab.kernel.invokeFunction('convertToInteractive',\n",
              "                                                    [key], {});\n",
              "        if (!dataTable) return;\n",
              "\n",
              "        const docLinkHtml = 'Like what you see? Visit the ' +\n",
              "          '<a target=\"_blank\" href=https://colab.research.google.com/notebooks/data_table.ipynb>data table notebook</a>'\n",
              "          + ' to learn more about interactive tables.';\n",
              "        element.innerHTML = '';\n",
              "        dataTable['output_type'] = 'display_data';\n",
              "        await google.colab.output.renderOutput(dataTable, element);\n",
              "        const docLink = document.createElement('div');\n",
              "        docLink.innerHTML = docLinkHtml;\n",
              "        element.appendChild(docLink);\n",
              "      }\n",
              "    </script>\n",
              "  </div>\n",
              "\n",
              "\n",
              "<div id=\"df-e2a8ff9e-2d54-4df6-8285-a78ca3661e50\">\n",
              "  <button class=\"colab-df-quickchart\" onclick=\"quickchart('df-e2a8ff9e-2d54-4df6-8285-a78ca3661e50')\"\n",
              "            title=\"Suggest charts.\"\n",
              "            style=\"display:none;\">\n",
              "\n",
              "<svg xmlns=\"http://www.w3.org/2000/svg\" height=\"24px\"viewBox=\"0 0 24 24\"\n",
              "     width=\"24px\">\n",
              "    <g>\n",
              "        <path d=\"M19 3H5c-1.1 0-2 .9-2 2v14c0 1.1.9 2 2 2h14c1.1 0 2-.9 2-2V5c0-1.1-.9-2-2-2zM9 17H7v-7h2v7zm4 0h-2V7h2v10zm4 0h-2v-4h2v4z\"/>\n",
              "    </g>\n",
              "</svg>\n",
              "  </button>\n",
              "\n",
              "<style>\n",
              "  .colab-df-quickchart {\n",
              "      --bg-color: #E8F0FE;\n",
              "      --fill-color: #1967D2;\n",
              "      --hover-bg-color: #E2EBFA;\n",
              "      --hover-fill-color: #174EA6;\n",
              "      --disabled-fill-color: #AAA;\n",
              "      --disabled-bg-color: #DDD;\n",
              "  }\n",
              "\n",
              "  [theme=dark] .colab-df-quickchart {\n",
              "      --bg-color: #3B4455;\n",
              "      --fill-color: #D2E3FC;\n",
              "      --hover-bg-color: #434B5C;\n",
              "      --hover-fill-color: #FFFFFF;\n",
              "      --disabled-bg-color: #3B4455;\n",
              "      --disabled-fill-color: #666;\n",
              "  }\n",
              "\n",
              "  .colab-df-quickchart {\n",
              "    background-color: var(--bg-color);\n",
              "    border: none;\n",
              "    border-radius: 50%;\n",
              "    cursor: pointer;\n",
              "    display: none;\n",
              "    fill: var(--fill-color);\n",
              "    height: 32px;\n",
              "    padding: 0;\n",
              "    width: 32px;\n",
              "  }\n",
              "\n",
              "  .colab-df-quickchart:hover {\n",
              "    background-color: var(--hover-bg-color);\n",
              "    box-shadow: 0 1px 2px rgba(60, 64, 67, 0.3), 0 1px 3px 1px rgba(60, 64, 67, 0.15);\n",
              "    fill: var(--button-hover-fill-color);\n",
              "  }\n",
              "\n",
              "  .colab-df-quickchart-complete:disabled,\n",
              "  .colab-df-quickchart-complete:disabled:hover {\n",
              "    background-color: var(--disabled-bg-color);\n",
              "    fill: var(--disabled-fill-color);\n",
              "    box-shadow: none;\n",
              "  }\n",
              "\n",
              "  .colab-df-spinner {\n",
              "    border: 2px solid var(--fill-color);\n",
              "    border-color: transparent;\n",
              "    border-bottom-color: var(--fill-color);\n",
              "    animation:\n",
              "      spin 1s steps(1) infinite;\n",
              "  }\n",
              "\n",
              "  @keyframes spin {\n",
              "    0% {\n",
              "      border-color: transparent;\n",
              "      border-bottom-color: var(--fill-color);\n",
              "      border-left-color: var(--fill-color);\n",
              "    }\n",
              "    20% {\n",
              "      border-color: transparent;\n",
              "      border-left-color: var(--fill-color);\n",
              "      border-top-color: var(--fill-color);\n",
              "    }\n",
              "    30% {\n",
              "      border-color: transparent;\n",
              "      border-left-color: var(--fill-color);\n",
              "      border-top-color: var(--fill-color);\n",
              "      border-right-color: var(--fill-color);\n",
              "    }\n",
              "    40% {\n",
              "      border-color: transparent;\n",
              "      border-right-color: var(--fill-color);\n",
              "      border-top-color: var(--fill-color);\n",
              "    }\n",
              "    60% {\n",
              "      border-color: transparent;\n",
              "      border-right-color: var(--fill-color);\n",
              "    }\n",
              "    80% {\n",
              "      border-color: transparent;\n",
              "      border-right-color: var(--fill-color);\n",
              "      border-bottom-color: var(--fill-color);\n",
              "    }\n",
              "    90% {\n",
              "      border-color: transparent;\n",
              "      border-bottom-color: var(--fill-color);\n",
              "    }\n",
              "  }\n",
              "</style>\n",
              "\n",
              "  <script>\n",
              "    async function quickchart(key) {\n",
              "      const quickchartButtonEl =\n",
              "        document.querySelector('#' + key + ' button');\n",
              "      quickchartButtonEl.disabled = true;  // To prevent multiple clicks.\n",
              "      quickchartButtonEl.classList.add('colab-df-spinner');\n",
              "      try {\n",
              "        const charts = await google.colab.kernel.invokeFunction(\n",
              "            'suggestCharts', [key], {});\n",
              "      } catch (error) {\n",
              "        console.error('Error during call to suggestCharts:', error);\n",
              "      }\n",
              "      quickchartButtonEl.classList.remove('colab-df-spinner');\n",
              "      quickchartButtonEl.classList.add('colab-df-quickchart-complete');\n",
              "    }\n",
              "    (() => {\n",
              "      let quickchartButtonEl =\n",
              "        document.querySelector('#df-e2a8ff9e-2d54-4df6-8285-a78ca3661e50 button');\n",
              "      quickchartButtonEl.style.display =\n",
              "        google.colab.kernel.accessAllowed ? 'block' : 'none';\n",
              "    })();\n",
              "  </script>\n",
              "</div>\n",
              "    </div>\n",
              "  </div>\n"
            ]
          },
          "metadata": {},
          "execution_count": 87
        }
      ],
      "source": [
        "import pandas as pd\n",
        "\n",
        "#Evitamos los valores nulos con la instruccion dropna()\n",
        "penguins = pd.read_csv('/content/drive/MyDrive/Azure DS Certification/Create Machine Learning Models On Azure/Semana3/Data/penguins.csv').dropna()\n",
        "\n",
        "penguins.head()"
      ]
    },
    {
      "cell_type": "markdown",
      "source": [
        "Se puede ver que la escala de FlipperLenght y BodyMass se encuentra en una escala bastante distinta a las de los primeros 2 atributos, por lo que se pueden mandar a una escala similar"
      ],
      "metadata": {
        "id": "F6DqjoRi0ORr"
      }
    },
    {
      "cell_type": "code",
      "source": [
        "#El atributo basta con escalarlo por 1/10 al estar en centenas\n",
        "penguins['FlipperLength'] = penguins['FlipperLength']/10\n",
        "#El atributo requiere escalarlo por 1/100 ya que esta en millares\n",
        "penguins['BodyMass'] = penguins['BodyMass']/100\n",
        "print(penguins.shape)"
      ],
      "metadata": {
        "colab": {
          "base_uri": "https://localhost:8080/"
        },
        "id": "PO5IBIZj0L8v",
        "outputId": "0511b3bc-b598-41cb-a3cc-335365293c61"
      },
      "execution_count": null,
      "outputs": [
        {
          "output_type": "stream",
          "name": "stdout",
          "text": [
            "(342, 5)\n"
          ]
        }
      ]
    },
    {
      "cell_type": "markdown",
      "source": [
        "**Vamos a sobremuestrear nuestro conjunto ya que es bastante pequeno para Deep Learning**"
      ],
      "metadata": {
        "id": "eKEQ8K-z0xNw"
      }
    },
    {
      "cell_type": "code",
      "source": [
        "penguins=pd.concat([penguins, penguins, penguins, penguins]).reset_index().drop(columns='index')"
      ],
      "metadata": {
        "id": "kzkFHzw6wHws"
      },
      "execution_count": null,
      "outputs": []
    },
    {
      "cell_type": "code",
      "execution_count": null,
      "metadata": {
        "tags": [],
        "colab": {
          "base_uri": "https://localhost:8080/"
        },
        "id": "5G31jpL3vVM0",
        "outputId": "b4d4399d-56ae-448d-c46d-996040888e64"
      },
      "outputs": [
        {
          "output_type": "stream",
          "name": "stdout",
          "text": [
            "Training Set: 239, Test Set: 103 \n",
            "\n"
          ]
        }
      ],
      "source": [
        "from sklearn.model_selection import train_test_split\n",
        "\n",
        "features = ['CulmenLength','CulmenDepth','FlipperLength','BodyMass']\n",
        "label = 'Species'\n",
        "\n",
        "# Dividimos las observaciones en conjunto de entrenamiento y prueba\n",
        "x_train, x_test, y_train, y_test = train_test_split(penguins[features].values,\n",
        "                                                    penguins[label].values,\n",
        "                                                    test_size=0.30,\n",
        "                                                    random_state=0)\n",
        "\n",
        "print ('Training Set: %d, Test Set: %d \\n' % (len(x_train), len(x_test)))"
      ]
    },
    {
      "cell_type": "markdown",
      "source": [
        "**Recomendacion de librerias por parte de AzureMl**"
      ],
      "metadata": {
        "id": "_k9LnQGJ1Hkh"
      }
    },
    {
      "cell_type": "code",
      "execution_count": null,
      "metadata": {
        "colab": {
          "base_uri": "https://localhost:8080/"
        },
        "id": "F-2OEeWVvVM1",
        "outputId": "f65deb31-15dc-4559-d552-9a0a91b7dcc1"
      },
      "outputs": [
        {
          "output_type": "stream",
          "name": "stdout",
          "text": [
            "Looking in links: https://download.pytorch.org/whl/torch_stable.html\n",
            "\u001b[31mERROR: Could not find a version that satisfies the requirement torch==1.9.0+cpu (from versions: 1.11.0, 1.11.0+cpu, 1.11.0+cu102, 1.11.0+cu113, 1.11.0+cu115, 1.11.0+rocm4.3.1, 1.11.0+rocm4.5.2, 1.12.0, 1.12.0+cpu, 1.12.0+cu102, 1.12.0+cu113, 1.12.0+cu116, 1.12.0+rocm5.0, 1.12.0+rocm5.1.1, 1.12.1, 1.12.1+cpu, 1.12.1+cu102, 1.12.1+cu113, 1.12.1+cu116, 1.12.1+rocm5.0, 1.12.1+rocm5.1.1, 1.13.0, 1.13.0+cpu, 1.13.0+cu116, 1.13.0+cu117, 1.13.0+cu117.with.pypi.cudnn, 1.13.0+rocm5.1.1, 1.13.0+rocm5.2, 1.13.1, 1.13.1+cpu, 1.13.1+cu116, 1.13.1+cu117, 1.13.1+cu117.with.pypi.cudnn, 1.13.1+rocm5.1.1, 1.13.1+rocm5.2, 2.0.0, 2.0.0+cpu, 2.0.0+cpu.cxx11.abi, 2.0.0+cu117, 2.0.0+cu117.with.pypi.cudnn, 2.0.0+cu118, 2.0.0+rocm5.3, 2.0.0+rocm5.4.2, 2.0.1, 2.0.1+cpu, 2.0.1+cpu.cxx11.abi, 2.0.1+cu117, 2.0.1+cu117.with.pypi.cudnn, 2.0.1+cu118, 2.0.1+rocm5.3, 2.0.1+rocm5.4.2)\u001b[0m\u001b[31m\n",
            "\u001b[0m\u001b[31mERROR: No matching distribution found for torch==1.9.0+cpu\u001b[0m\u001b[31m\n",
            "\u001b[0m"
          ]
        }
      ],
      "source": [
        "!pip install torch==1.9.0+cpu torchvision==0.10.0+cpu torchaudio==0.9.0 -f https://download.pytorch.org/whl/torch_stable.html"
      ]
    },
    {
      "cell_type": "code",
      "execution_count": null,
      "metadata": {
        "tags": [],
        "colab": {
          "base_uri": "https://localhost:8080/"
        },
        "id": "D8IIC-qAvVM1",
        "outputId": "d4af0117-a2a9-4f30-81c1-11829430cc03"
      },
      "outputs": [
        {
          "output_type": "stream",
          "name": "stdout",
          "text": [
            "Libraries imported - ready to use PyTorch 2.0.1+cu118\n"
          ]
        }
      ],
      "source": [
        "import torch\n",
        "import torch.nn as nn\n",
        "import torch.utils.data as td\n",
        "\n",
        "# Fijamos una seed para reproducir el experimento\n",
        "torch.manual_seed(0)\n",
        "\n",
        "print(\"Libraries imported - ready to use PyTorch\", torch.__version__)"
      ]
    },
    {
      "cell_type": "markdown",
      "source": [
        "#Preparando los conjuntos de datos\n",
        "\n",
        "Dado que Pytorch no trabaja directamente con arreglos de Numpy, es necesario convertirlos a Tensores que son bastante similares, pero Pytorch puede trabajar con ellos"
      ],
      "metadata": {
        "id": "C6D3oekQ1yjQ"
      }
    },
    {
      "cell_type": "code",
      "execution_count": null,
      "metadata": {
        "tags": [],
        "colab": {
          "base_uri": "https://localhost:8080/"
        },
        "id": "8MFmnYRMvVM1",
        "outputId": "4254602b-c819-4ac1-bfa8-4be9c63d0899"
      },
      "outputs": [
        {
          "output_type": "stream",
          "name": "stdout",
          "text": [
            "Ready to load data\n"
          ]
        }
      ],
      "source": [
        "# Creamos un tensor con flotantes para los atributos\n",
        "train_x = torch.Tensor(x_train).float()\n",
        "# Creamos un tensor con enteros (long) para las clases\n",
        "train_y = torch.Tensor(y_train).long()\n",
        "#Creamos un dataset con el formato de Pytorch, este objeto es iterable\n",
        "train_ds = td.TensorDataset(train_x,train_y)\n",
        "#Vaciamos el dataset en un Dataloader, el cual toma 'rebanadas' de nuestro conjunto de datos\n",
        "train_loader = td.DataLoader(train_ds, batch_size=20,shuffle=False, num_workers=1)\n",
        "\n",
        "# Creamos un tensor con flotantes para los atributos\n",
        "test_x = torch.Tensor(x_test).float()\n",
        "# Creamos un tensor con enteros (long) para las clases\n",
        "test_y = torch.Tensor(y_test).long()\n",
        "#Creamos un dataset con el formato de Pytorch, este objeto es iterable\n",
        "test_ds = td.TensorDataset(test_x,test_y)\n",
        "#Vaciamos el dataset en un Dataloader, el cual toma 'rebanadas' de nuestro conjunto de datos\n",
        "test_loader = td.DataLoader(test_ds, batch_size=20,\n",
        "    shuffle=False, num_workers=1)\n",
        "print('Ready to load data')"
      ]
    },
    {
      "cell_type": "markdown",
      "source": [
        "#Arquitectura\n",
        "\n",
        "Se propone un clasificador lineal con una capa oculta:\n",
        "\n",
        "$num\\_features ---> hl---> 2*hl---> Num\\_classes$"
      ],
      "metadata": {
        "id": "H6KYPwKL2_yS"
      }
    },
    {
      "cell_type": "code",
      "execution_count": null,
      "metadata": {
        "tags": [],
        "colab": {
          "base_uri": "https://localhost:8080/"
        },
        "id": "w6jUKqw_vVM2",
        "outputId": "421c618e-6db2-40f0-b54d-aea9c89f340e"
      },
      "outputs": [
        {
          "output_type": "stream",
          "name": "stdout",
          "text": [
            "PenguinNet(\n",
            "  (fc1): Linear(in_features=4, out_features=10, bias=True)\n",
            "  (fc2): Linear(in_features=10, out_features=20, bias=True)\n",
            "  (fc3): Linear(in_features=20, out_features=3, bias=True)\n",
            ")\n"
          ]
        }
      ],
      "source": [
        "#Dimension de la capa oculta\n",
        "hl = 10\n",
        "\n",
        "# Define the neural network\n",
        "class PenguinNet(nn.Module):\n",
        "    def __init__(self):\n",
        "        super(PenguinNet, self).__init__()\n",
        "        self.fc1 = nn.Linear(len(features), hl)\n",
        "        self.fc2 = nn.Linear(hl, 2* hl)\n",
        "        self.fc3=nn.Linear(2*hl,  len(set(penguins['Species'])))\n",
        "\n",
        "    def forward(self, x):\n",
        "        x = torch.relu(self.fc1(x))\n",
        "        x = torch.relu(self.fc2(x))\n",
        "        x = torch.relu(self.fc3(x))\n",
        "        return x\n",
        "\n",
        "# Create a model instance from the network\n",
        "model = PenguinNet()\n",
        "print(model)"
      ]
    },
    {
      "cell_type": "markdown",
      "metadata": {
        "id": "Ab1CiKj3vVM2"
      },
      "source": [
        "#Funciones de entrenamiento"
      ]
    },
    {
      "cell_type": "code",
      "source": [
        "def train(model, data_loader, optimizer):\n",
        "    # Poner el modelo en modo entrenamiento\n",
        "    model.train()\n",
        "    train_loss = 0\n",
        "\n",
        "    #Recorremos #batch y cada tensor en el dataloader\n",
        "    for batch, tensor in enumerate(data_loader):\n",
        "        data, target = tensor\n",
        "        #Reiniciamos el acumulador de gradiente en cada iteracion\n",
        "        optimizer.zero_grad()\n",
        "        #Evaluamos el tensor en el modelo\n",
        "        out = model(data)\n",
        "        #Calculamos su valor de perdida con respecto al objetivo\n",
        "        loss = loss_criteria(out, target)\n",
        "        #Agregamos su perdida a una cuenta general del entrenamiento\n",
        "        train_loss += loss.item()\n",
        "\n",
        "        # Calculamos la derivada\n",
        "        loss.backward()\n",
        "        #Actualizamos los parametros entrenaados\n",
        "        optimizer.step()\n",
        "\n",
        "    #Buscamos el total de la perdida durante el entrenamiento\n",
        "    avg_loss = train_loss / (batch+1)\n",
        "    print('Training set: Average loss: {:.6f}'.format(avg_loss))\n",
        "    #regresamos la perdida promedio\n",
        "    return avg_loss\n",
        "\n",
        "\n",
        "def test(model, data_loader):\n",
        "    # Ponemos el modelo en modo evaluacion, para evitar modificar los gradientes\n",
        "    model.eval()\n",
        "    test_loss = 0\n",
        "    correct = 0\n",
        "    #Sin modificar los gradientes\n",
        "    with torch.no_grad():\n",
        "        batch_count = 0\n",
        "        #Para cada numero de batch y cada tensor en el dataloader\n",
        "        for batch, tensor in enumerate(data_loader):\n",
        "            batch_count += 1\n",
        "            data, target = tensor\n",
        "            # Obtenemos la prediccion del modelo entrenado\n",
        "            out = model(data)\n",
        "\n",
        "            # Calculamos la perdida del valor real\n",
        "            test_loss += loss_criteria(out, target).item()\n",
        "\n",
        "            #Tomamos la clase de mayor probabilidad como la asignada\n",
        "            _, predicted = torch.max(out.data, 1)\n",
        "            #Tomamos el numero de aciertos en cada batch\n",
        "            correct += torch.sum(target==predicted).item()\n",
        "\n",
        "    # Calculamos la perdida promedio\n",
        "    avg_loss = test_loss/batch_count\n",
        "    print('Validation set: Average loss: {:.6f}, Accuracy: {}/{} ({:.0f}%)\\n'.format(\n",
        "        avg_loss, correct, len(data_loader.dataset),\n",
        "        100. * correct / len(data_loader.dataset)))\n",
        "\n",
        "    # Regresamos la perdida promedio\n",
        "    return avg_loss\n"
      ],
      "metadata": {
        "id": "Fbski7Dj5D3e"
      },
      "execution_count": null,
      "outputs": []
    },
    {
      "cell_type": "markdown",
      "source": [
        "#Entrenamiento"
      ],
      "metadata": {
        "id": "nhEvJ8qh5Ehf"
      }
    },
    {
      "cell_type": "code",
      "execution_count": null,
      "metadata": {
        "tags": [],
        "colab": {
          "base_uri": "https://localhost:8080/"
        },
        "id": "0JCngxO7vVM2",
        "outputId": "3f80a9b9-6074-4103-aa95-b84551d8093e"
      },
      "outputs": [
        {
          "output_type": "stream",
          "name": "stdout",
          "text": [
            "Epoch: 1\n",
            "Training set: Average loss: 2.081632\n",
            "Validation set: Average loss: 1.079570, Accuracy: 155/411 (38%)\n",
            "\n",
            "Epoch: 2\n",
            "Training set: Average loss: 0.841975\n",
            "Validation set: Average loss: 0.686381, Accuracy: 318/411 (77%)\n",
            "\n",
            "Epoch: 3\n",
            "Training set: Average loss: 0.589350\n",
            "Validation set: Average loss: 0.541085, Accuracy: 321/411 (78%)\n",
            "\n",
            "Epoch: 4\n",
            "Training set: Average loss: 0.470317\n",
            "Validation set: Average loss: 0.450862, Accuracy: 326/411 (79%)\n",
            "\n",
            "Epoch: 5\n",
            "Training set: Average loss: 0.383615\n",
            "Validation set: Average loss: 0.376551, Accuracy: 348/411 (85%)\n",
            "\n",
            "Epoch: 6\n",
            "Training set: Average loss: 0.315103\n",
            "Validation set: Average loss: 0.313273, Accuracy: 365/411 (89%)\n",
            "\n",
            "Epoch: 7\n",
            "Training set: Average loss: 0.260811\n",
            "Validation set: Average loss: 0.261789, Accuracy: 390/411 (95%)\n",
            "\n",
            "Epoch: 8\n",
            "Training set: Average loss: 0.218479\n",
            "Validation set: Average loss: 0.221930, Accuracy: 393/411 (96%)\n",
            "\n",
            "Epoch: 9\n",
            "Training set: Average loss: 0.185722\n",
            "Validation set: Average loss: 0.192027, Accuracy: 393/411 (96%)\n",
            "\n",
            "Epoch: 10\n",
            "Training set: Average loss: 0.160511\n",
            "Validation set: Average loss: 0.168292, Accuracy: 396/411 (96%)\n",
            "\n",
            "Epoch: 11\n",
            "Training set: Average loss: 0.140672\n",
            "Validation set: Average loss: 0.149639, Accuracy: 397/411 (97%)\n",
            "\n",
            "Epoch: 12\n",
            "Training set: Average loss: 0.124962\n",
            "Validation set: Average loss: 0.134362, Accuracy: 397/411 (97%)\n",
            "\n",
            "Epoch: 13\n",
            "Training set: Average loss: 0.112300\n",
            "Validation set: Average loss: 0.121905, Accuracy: 397/411 (97%)\n",
            "\n",
            "Epoch: 14\n",
            "Training set: Average loss: 0.101948\n",
            "Validation set: Average loss: 0.111872, Accuracy: 397/411 (97%)\n",
            "\n",
            "Epoch: 15\n",
            "Training set: Average loss: 0.093410\n",
            "Validation set: Average loss: 0.103579, Accuracy: 397/411 (97%)\n",
            "\n",
            "Epoch: 16\n",
            "Training set: Average loss: 0.086314\n",
            "Validation set: Average loss: 0.096589, Accuracy: 397/411 (97%)\n",
            "\n",
            "Epoch: 17\n",
            "Training set: Average loss: 0.080311\n",
            "Validation set: Average loss: 0.090580, Accuracy: 397/411 (97%)\n",
            "\n",
            "Epoch: 18\n",
            "Training set: Average loss: 0.075200\n",
            "Validation set: Average loss: 0.085474, Accuracy: 397/411 (97%)\n",
            "\n",
            "Epoch: 19\n",
            "Training set: Average loss: 0.070775\n",
            "Validation set: Average loss: 0.080879, Accuracy: 399/411 (97%)\n",
            "\n",
            "Epoch: 20\n",
            "Training set: Average loss: 0.066907\n",
            "Validation set: Average loss: 0.076943, Accuracy: 399/411 (97%)\n",
            "\n",
            "Epoch: 21\n",
            "Training set: Average loss: 0.063540\n",
            "Validation set: Average loss: 0.073418, Accuracy: 399/411 (97%)\n",
            "\n",
            "Epoch: 22\n",
            "Training set: Average loss: 0.060570\n",
            "Validation set: Average loss: 0.070434, Accuracy: 399/411 (97%)\n",
            "\n",
            "Epoch: 23\n",
            "Training set: Average loss: 0.057926\n",
            "Validation set: Average loss: 0.067501, Accuracy: 399/411 (97%)\n",
            "\n",
            "Epoch: 24\n",
            "Training set: Average loss: 0.055515\n",
            "Validation set: Average loss: 0.064966, Accuracy: 399/411 (97%)\n",
            "\n",
            "Epoch: 25\n",
            "Training set: Average loss: 0.053350\n",
            "Validation set: Average loss: 0.062653, Accuracy: 402/411 (98%)\n",
            "\n",
            "Epoch: 26\n",
            "Training set: Average loss: 0.051366\n",
            "Validation set: Average loss: 0.060400, Accuracy: 402/411 (98%)\n",
            "\n",
            "Epoch: 27\n",
            "Training set: Average loss: 0.049558\n",
            "Validation set: Average loss: 0.058492, Accuracy: 402/411 (98%)\n",
            "\n",
            "Epoch: 28\n",
            "Training set: Average loss: 0.047913\n",
            "Validation set: Average loss: 0.056775, Accuracy: 402/411 (98%)\n",
            "\n",
            "Epoch: 29\n",
            "Training set: Average loss: 0.046405\n",
            "Validation set: Average loss: 0.055090, Accuracy: 402/411 (98%)\n",
            "\n",
            "Epoch: 30\n",
            "Training set: Average loss: 0.045019\n",
            "Validation set: Average loss: 0.053561, Accuracy: 402/411 (98%)\n",
            "\n",
            "Epoch: 31\n",
            "Training set: Average loss: 0.043745\n",
            "Validation set: Average loss: 0.052091, Accuracy: 402/411 (98%)\n",
            "\n",
            "Epoch: 32\n",
            "Training set: Average loss: 0.042548\n",
            "Validation set: Average loss: 0.050742, Accuracy: 402/411 (98%)\n",
            "\n",
            "Epoch: 33\n",
            "Training set: Average loss: 0.041448\n",
            "Validation set: Average loss: 0.049479, Accuracy: 402/411 (98%)\n",
            "\n",
            "Epoch: 34\n",
            "Training set: Average loss: 0.040405\n",
            "Validation set: Average loss: 0.048240, Accuracy: 402/411 (98%)\n",
            "\n",
            "Epoch: 35\n",
            "Training set: Average loss: 0.039424\n",
            "Validation set: Average loss: 0.047014, Accuracy: 402/411 (98%)\n",
            "\n",
            "Epoch: 36\n",
            "Training set: Average loss: 0.038501\n",
            "Validation set: Average loss: 0.045891, Accuracy: 404/411 (98%)\n",
            "\n",
            "Epoch: 37\n",
            "Training set: Average loss: 0.037624\n",
            "Validation set: Average loss: 0.044775, Accuracy: 407/411 (99%)\n",
            "\n",
            "Epoch: 38\n",
            "Training set: Average loss: 0.036804\n",
            "Validation set: Average loss: 0.043784, Accuracy: 407/411 (99%)\n",
            "\n",
            "Epoch: 39\n",
            "Training set: Average loss: 0.036027\n",
            "Validation set: Average loss: 0.042811, Accuracy: 407/411 (99%)\n",
            "\n",
            "Epoch: 40\n",
            "Training set: Average loss: 0.035271\n",
            "Validation set: Average loss: 0.041862, Accuracy: 407/411 (99%)\n",
            "\n",
            "Epoch: 41\n",
            "Training set: Average loss: 0.034550\n",
            "Validation set: Average loss: 0.040936, Accuracy: 407/411 (99%)\n",
            "\n",
            "Epoch: 42\n",
            "Training set: Average loss: 0.033852\n",
            "Validation set: Average loss: 0.040056, Accuracy: 407/411 (99%)\n",
            "\n",
            "Epoch: 43\n",
            "Training set: Average loss: 0.033234\n",
            "Validation set: Average loss: 0.039269, Accuracy: 407/411 (99%)\n",
            "\n",
            "Epoch: 44\n",
            "Training set: Average loss: 0.032620\n",
            "Validation set: Average loss: 0.038481, Accuracy: 407/411 (99%)\n",
            "\n",
            "Epoch: 45\n",
            "Training set: Average loss: 0.032037\n",
            "Validation set: Average loss: 0.037702, Accuracy: 407/411 (99%)\n",
            "\n",
            "Epoch: 46\n",
            "Training set: Average loss: 0.031481\n",
            "Validation set: Average loss: 0.036964, Accuracy: 407/411 (99%)\n",
            "\n",
            "Epoch: 47\n",
            "Training set: Average loss: 0.030952\n",
            "Validation set: Average loss: 0.036262, Accuracy: 407/411 (99%)\n",
            "\n",
            "Epoch: 48\n",
            "Training set: Average loss: 0.030448\n",
            "Validation set: Average loss: 0.035583, Accuracy: 407/411 (99%)\n",
            "\n",
            "Epoch: 49\n",
            "Training set: Average loss: 0.029965\n",
            "Validation set: Average loss: 0.034928, Accuracy: 407/411 (99%)\n",
            "\n",
            "Epoch: 50\n",
            "Training set: Average loss: 0.029514\n",
            "Validation set: Average loss: 0.034316, Accuracy: 407/411 (99%)\n",
            "\n"
          ]
        }
      ],
      "source": [
        "# La funcion de perdida para clasificacion, soporta clasificacion multiclase\n",
        "loss_criteria = nn.CrossEntropyLoss()\n",
        "\n",
        "#Usamos el Optimizador Adam\n",
        "learning_rate = 0.001\n",
        "optimizer = torch.optim.Adam(model.parameters(), lr=learning_rate)\n",
        "optimizer.zero_grad()\n",
        "\n",
        "# Registro de metricas durante el entrenamiento\n",
        "epoch_nums = []\n",
        "training_loss = []\n",
        "validation_loss = []\n",
        "\n",
        "# Train over 50 epochs\n",
        "epochs = 50\n",
        "for epoch in range(1, epochs + 1):\n",
        "\n",
        "    # print the epoch number\n",
        "    print('Epoch: {}'.format(epoch))\n",
        "\n",
        "    # Feed training data into the model to optimize the weights\n",
        "    train_loss = train(model, train_loader, optimizer)\n",
        "\n",
        "    # Feed the test data into the model to check its performance\n",
        "    test_loss = test(model, test_loader)\n",
        "\n",
        "    # Log the metrics for this epoch\n",
        "    epoch_nums.append(epoch)\n",
        "    training_loss.append(train_loss)\n",
        "    validation_loss.append(test_loss)\n"
      ]
    },
    {
      "cell_type": "markdown",
      "source": [
        "# Grafica de perdida, entrenamiento vs validacion"
      ],
      "metadata": {
        "id": "BefYfzbI6F2q"
      }
    },
    {
      "cell_type": "code",
      "execution_count": null,
      "metadata": {
        "colab": {
          "base_uri": "https://localhost:8080/",
          "height": 449
        },
        "id": "BgLvbqnSvVM3",
        "outputId": "f7c694fa-9cf3-42e9-a5c9-15e3e49a8c2d"
      },
      "outputs": [
        {
          "output_type": "display_data",
          "data": {
            "text/plain": [
              "<Figure size 640x480 with 1 Axes>"
            ],
            "image/png": "[encoded data removed]"
          },
          "metadata": {}
        }
      ],
      "source": [
        "%matplotlib inline\n",
        "from matplotlib import pyplot as plt\n",
        "\n",
        "plt.plot(epoch_nums, training_loss)\n",
        "plt.plot(epoch_nums, validation_loss)\n",
        "plt.xlabel('epoch')\n",
        "plt.ylabel('loss')\n",
        "plt.legend(['training', 'validation'], loc='upper right')\n",
        "plt.show()"
      ]
    },
    {
      "cell_type": "markdown",
      "source": [
        "#Evaluacion"
      ],
      "metadata": {
        "id": "K0NBeC0T6YXM"
      }
    },
    {
      "cell_type": "code",
      "execution_count": null,
      "metadata": {
        "colab": {
          "base_uri": "https://localhost:8080/",
          "height": 452
        },
        "id": "xEX7mIMFvVM3",
        "outputId": "8dcc5503-22eb-4286-da83-8c9c622d2937"
      },
      "outputs": [
        {
          "output_type": "display_data",
          "data": {
            "text/plain": [
              "<Figure size 640x480 with 2 Axes>"
            ],
            "image/png": "[encoded data removed]"
          },
          "metadata": {}
        }
      ],
      "source": [
        "from sklearn.metrics import confusion_matrix\n",
        "import numpy as np\n",
        "\n",
        "# Ponemos el modelo en modo evaluacion (para no modificar)\n",
        "model.eval()\n",
        "\n",
        "# Generamos las predicciones del conjunto de entrenamiento\n",
        "x = torch.Tensor(x_test).float()\n",
        "#Solo nos interesa aquella clase asociada a la mayor porbabilidad, por eso tomamos el maximo\n",
        "_, predicted = torch.max(model(x).data, 1)\n",
        "\n",
        "# #Matriz de confusion\n",
        "cm = confusion_matrix(y_test, predicted.numpy())\n",
        "plt.imshow(cm, interpolation=\"nearest\", cmap=plt.cm.Blues)\n",
        "plt.colorbar()\n",
        "tick_marks = np.arange(len(set(penguins['Species'])))\n",
        "plt.xticks(tick_marks, set(penguins['Species']), rotation=45)\n",
        "plt.yticks(tick_marks, set(penguins['Species']))\n",
        "plt.xlabel(\"Predicted Species\")\n",
        "plt.ylabel(\"Actual Species\")\n",
        "plt.show()"
      ]
    },
    {
      "cell_type": "markdown",
      "metadata": {
        "id": "z9rGyYaXvVM3"
      },
      "source": [
        "# Guardamos el modelo entrenado"
      ]
    },
    {
      "cell_type": "code",
      "execution_count": null,
      "metadata": {
        "colab": {
          "base_uri": "https://localhost:8080/"
        },
        "id": "vdT4vb7avVM3",
        "outputId": "887c7769-008a-4181-8e7a-675b03b9f1e5"
      },
      "outputs": [
        {
          "output_type": "stream",
          "name": "stdout",
          "text": [
            "model saved as penguin_classifier.pt\n"
          ]
        }
      ],
      "source": [
        "#le ponemos un nombre\n",
        "model_file = 'penguin_classifier.pt'\n",
        "#Guardamos los valores de los parametros entrenados y su direccion\n",
        "torch.save(model.state_dict(), model_file)\n",
        "del model\n",
        "print('model saved as', model_file)"
      ]
    },
    {
      "cell_type": "markdown",
      "metadata": {
        "id": "ED_vVU_1vVM4"
      },
      "source": [
        "#Cargar modelo entrenado"
      ]
    },
    {
      "cell_type": "code",
      "execution_count": null,
      "metadata": {
        "tags": [],
        "colab": {
          "base_uri": "https://localhost:8080/"
        },
        "id": "xXFcYT6FvVM4",
        "outputId": "21890081-3079-48f2-dab4-5aaf184117a6"
      },
      "outputs": [
        {
          "output_type": "stream",
          "name": "stdout",
          "text": [
            "New sample: [[50.4, 15.3, 20, 50]]\n"
          ]
        }
      ],
      "source": [
        "#Una nueva observacion\n",
        "x_new = [[50.4,15.3,20,50]]\n",
        "print ('New sample: {}'.format(x_new))\n",
        "\n",
        "#Creamos un modelo vacio, pero cargamos los pesos entrenados anteriormente\n",
        "model = PenguinNet()\n",
        "model.load_state_dict(torch.load(model_file))\n",
        "\n",
        "# #Ponemos el modelo en modo evaluacion\n",
        "model.eval()\n",
        "\n",
        "# Generamos la prediccion, bastante similar a en la evaluacion\n",
        "x = torch.Tensor(x_new).float()\n",
        "_, predicted = torch.max(model(x).data, 1)"
      ]
    }
  ],
  "metadata": {
    "kernelspec": {
      "display_name": "Python 3.8 - AzureML",
      "language": "python",
      "name": "python38-azureml"
    },
    "language_info": {
      "codemirror_mode": {
        "name": "ipython",
        "version": 3
      },
      "file_extension": ".py",
      "mimetype": "text/x-python",
      "name": "python",
      "nbconvert_exporter": "python",
      "pygments_lexer": "ipython3",
      "version": "3.8.5"
    },
    "colab": {
      "provenance": [],
      "toc_visible": true
    }
  },
  "nbformat": 4,
  "nbformat_minor": 0
}