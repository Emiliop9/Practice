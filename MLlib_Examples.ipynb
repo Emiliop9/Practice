{
  "cells": [
    {
      "cell_type": "markdown",
      "source": [
        "#Descarga de archivos para utilizar Spark en Colab"
      ],
      "metadata": {
        "id": "kK_E0lOmHiMZ"
      }
    },
    {
      "cell_type": "code",
      "execution_count": null,
      "metadata": {
        "id": "UE0xtBAKQ_FV"
      },
      "outputs": [],
      "source": [
        "# innstall java\n",
        "!apt-get install openjdk-8-jdk-headless -qq > /dev/null\n",
        "\n",
        "# install spark (change the version number if needed)\n",
        "!wget -q https://archive.apache.org/dist/spark/spark-3.0.0/spark-3.0.0-bin-hadoop3.2.tgz\n",
        "\n",
        "# unzip the spark file to the current folder\n",
        "!tar xf spark-3.0.0-bin-hadoop3.2.tgz\n",
        "# install findspark using pip\n",
        "!pip install -q findspark"
      ]
    },
    {
      "cell_type": "code",
      "execution_count": null,
      "metadata": {
        "id": "RfLppm-uRzAp"
      },
      "outputs": [],
      "source": [
        "# set your spark folder to your system path environment.\n",
        "import os\n",
        "os.environ[\"JAVA_HOME\"] = \"/usr/lib/jvm/java-8-openjdk-amd64\"\n",
        "os.environ[\"SPARK_HOME\"] = \"/content/spark-3.0.0-bin-hadoop3.2\"\n",
        "\n",
        "import findspark\n",
        "findspark.init()\n",
        "\n",
        "from pyspark import SparkContext\n",
        "sc = SparkContext()"
      ]
    },
    {
      "cell_type": "markdown",
      "source": [
        "Algunas librerias que se usand durante estos ejemplos"
      ],
      "metadata": {
        "id": "PLwrsiQ6Hsm8"
      }
    },
    {
      "cell_type": "code",
      "execution_count": null,
      "metadata": {
        "id": "B2cbdIU4vTvn"
      },
      "outputs": [],
      "source": [
        "from pyspark.mllib.linalg import Vectors\n",
        "from pyspark.mllib.regression import LabeledPoint\n",
        "from pyspark.ml.classification import DecisionTreeClassifier\n",
        "from pyspark.mllib.tree import DecisionTreeModel, DecisionTree\n",
        "from pyspark.mllib.classification import NaiveBayesModel, NaiveBayes"
      ]
    },
    {
      "cell_type": "code",
      "execution_count": null,
      "metadata": {
        "id": "14A5BhdI51sP"
      },
      "outputs": [],
      "source": [
        "from pyspark import SparkConf\n",
        "from pyspark.sql import SparkSession\n",
        "spark = SparkConf()"
      ]
    },
    {
      "cell_type": "markdown",
      "source": [
        "**Configuracion para descargar un csv para el ejemplo de Poker**"
      ],
      "metadata": {
        "id": "COCq6n_AH23E"
      }
    },
    {
      "cell_type": "code",
      "execution_count": null,
      "metadata": {
        "id": "CeF3CwZY73-_"
      },
      "outputs": [],
      "source": [
        "!wget personal.cimat.mx:8181/~alejandro.rosales/resource/susy-10k-tra.data\n",
        "!wget personal.cimat.mx:8181/~alejandro.rosales/resource/susy-10k-tst.data\n",
        "!wget personal.cimat.mx:8181/~alejandro.rosales/resource/poker.csv"
      ]
    },
    {
      "cell_type": "markdown",
      "source": [
        "#Poker"
      ],
      "metadata": {
        "id": "oTt2iKkjNUEr"
      }
    },
    {
      "cell_type": "code",
      "execution_count": null,
      "metadata": {
        "id": "YKmiRL497KPA"
      },
      "outputs": [],
      "source": [
        "spark_session = SparkSession.builder.appName('Spark_session').config(\"spark.some.config.option\", \"some-value\").getOrCreate()\n",
        "#Leemos el dataset en un spark dataframe\n",
        "dataset_dataframe = spark_session.read.csv('poker.csv', header = True, inferSchema = True)"
      ]
    },
    {
      "cell_type": "markdown",
      "source": [
        "Es bastante similar al metodo .head() de pandas"
      ],
      "metadata": {
        "id": "SiF9vZl-IDII"
      }
    },
    {
      "cell_type": "code",
      "execution_count": null,
      "metadata": {
        "colab": {
          "base_uri": "https://localhost:8080/"
        },
        "id": "AjDp3uMa-Hpn",
        "outputId": "6fa37acf-db7b-4807-ce07-8b5621cac220"
      },
      "outputs": [
        {
          "output_type": "stream",
          "name": "stdout",
          "text": [
            "+---+---+---+---+---+---+---+---+---+---+-----+\n",
            "| S1| C1| S2| C2| S3| C3| S4| C4| S5| C5|Class|\n",
            "+---+---+---+---+---+---+---+---+---+---+-----+\n",
            "|  3| 12|  3|  2|  3| 11|  4|  5|  2|  5|    1|\n",
            "|  1|  9|  4|  6|  1|  4|  3|  2|  3|  9|    1|\n",
            "|  1|  4|  3| 13|  2| 13|  2|  1|  3|  6|    1|\n",
            "|  3| 10|  2|  7|  1|  2|  2| 11|  4|  9|    0|\n",
            "|  1|  3|  4|  5|  3|  4|  1| 12|  4|  6|    0|\n",
            "|  2|  6|  4| 11|  2|  3|  4|  9|  1|  7|    0|\n",
            "|  3|  2|  4|  9|  3|  7|  4|  3|  4|  5|    0|\n",
            "|  4|  4|  3| 13|  1|  8|  3|  9|  3| 10|    0|\n",
            "|  1|  9|  3|  8|  4|  4|  1|  7|  3|  5|    0|\n",
            "|  4|  7|  3| 12|  1| 13|  1|  9|  2|  6|    0|\n",
            "|  2| 12|  1|  3|  2| 11|  2|  7|  4|  8|    0|\n",
            "|  4|  2|  2|  9|  2|  7|  1|  5|  3| 11|    0|\n",
            "|  1| 13|  2|  6|  1|  6|  2| 11|  3|  5|    1|\n",
            "|  3|  8|  2|  7|  1|  9|  3|  6|  2|  3|    0|\n",
            "|  2| 10|  1| 11|  1|  9|  3|  1|  1| 13|    0|\n",
            "|  4|  2|  4| 12|  2| 12|  2|  7|  3| 10|    1|\n",
            "|  4|  5|  2|  2|  4|  9|  1|  5|  4|  1|    1|\n",
            "|  2|  3|  3|  9|  2|  1|  2|  6|  4| 10|    0|\n",
            "|  1|  7|  2| 11|  4|  1|  2|  9|  3| 13|    0|\n",
            "|  4| 12|  1|  6|  3|  1|  2|  2|  1|  8|    0|\n",
            "+---+---+---+---+---+---+---+---+---+---+-----+\n",
            "only showing top 20 rows\n",
            "\n"
          ]
        }
      ],
      "source": [
        "dataset_dataframe.show()"
      ]
    },
    {
      "cell_type": "markdown",
      "source": [
        "De nuevo, similar al metodo .describe() de pandas"
      ],
      "metadata": {
        "id": "xbqQtbBSIGon"
      }
    },
    {
      "cell_type": "code",
      "execution_count": null,
      "metadata": {
        "colab": {
          "base_uri": "https://localhost:8080/"
        },
        "id": "kwNSjn4M-PHN",
        "outputId": "e86a0f32-1d27-4187-9b3b-213621a912e9"
      },
      "outputs": [
        {
          "output_type": "stream",
          "name": "stdout",
          "text": [
            "+-------+------------------+-----------------+------------------+-----------------+------------------+------------------+------------------+------------------+------------------+-----------------+------------------+\n",
            "|summary|                S1|               C1|                S2|               C2|                S3|                C3|                S4|                C4|                S5|               C5|             Class|\n",
            "+-------+------------------+-----------------+------------------+-----------------+------------------+------------------+------------------+------------------+------------------+-----------------+------------------+\n",
            "|  count|           1025009|          1025009|           1025009|          1025009|           1025009|           1025009|           1025009|           1025009|           1025009|          1025009|           1025009|\n",
            "|   mean|2.5006960914489533|6.997867335799003|2.4998424404078405|7.006288725269729|2.5010999903415483| 6.999248787083821|2.5002843877468393| 7.000841943826835|2.4994004930688414|6.988823512769156|0.6170062897008709|\n",
            "| stddev|1.1177362831617208|3.743526604695502| 1.118645615589705|3.744051453615939|1.1183459058153793|3.7419649726758384|1.1172152583125212|3.7414227484844584|1.1189419503041786|3.739934271666505|0.7737464156927555|\n",
            "|    min|                 1|                1|                 1|                1|                 1|                 1|                 1|                 1|                 1|                1|                 0|\n",
            "|    max|                 4|               13|                 4|               13|                 4|                13|                 4|                13|                 4|               13|                 9|\n",
            "+-------+------------------+-----------------+------------------+-----------------+------------------+------------------+------------------+------------------+------------------+-----------------+------------------+\n",
            "\n"
          ]
        }
      ],
      "source": [
        "dataset_dataframe.describe().show()"
      ]
    },
    {
      "cell_type": "code",
      "source": [
        "from pyspark.ml.classification import NaiveBayes\n",
        "from pyspark.ml.feature import StringIndexer, VectorIndexer\n",
        "from pyspark.ml.feature import VectorAssembler, StringIndexer\n",
        "\n",
        "#Fijamos los atributos que se usaran para la prediccion y cual es el target\n",
        "features = dataset_dataframe.columns[:-1]\n",
        "label = dataset_dataframe.columns[-1]\n",
        "\n",
        "#Unimos todos los atributos separados en un solo vector con toda la info, mediante Vector Assembler\n",
        "featuresCol = VectorAssembler(inputCols = features, outputCol = 'features')\n",
        "#Aplicamos la transformacion a los atributos antes fijados\n",
        "dataset_dataframe = featuresCol.transform(dataset_dataframe)\n",
        "#De forma similar hacemos para la columna del target, en este caso label\n",
        "labelCol = StringIndexer(inputCol = label, outputCol = 'label').fit(dataset_dataframe)\n",
        "#Apicamos la transformacion a el conjunto de datos actual\n",
        "dataset_dataframe = labelCol.transform(dataset_dataframe)\n",
        "#Nos quedamos unicamente con los atributos que acabamos de transformar\n",
        "dataset_dataframe = dataset_dataframe.select('features', 'label')"
      ],
      "metadata": {
        "id": "FzQgsgjIQ2a-"
      },
      "execution_count": null,
      "outputs": []
    },
    {
      "cell_type": "markdown",
      "source": [
        "##Decision Tree"
      ],
      "metadata": {
        "id": "WAHRySrxJWZW"
      }
    },
    {
      "cell_type": "code",
      "execution_count": null,
      "metadata": {
        "id": "HpMJ2H0HDh8r"
      },
      "outputs": [],
      "source": [
        "from pyspark.ml.classification import DecisionTreeClassifier\n",
        "\n",
        "#Aplicamos un arbol de decision, en este caso bastante similar a sklearn, le damos los atributos\n",
        "decision_tree = DecisionTreeClassifier(featuresCol = 'features', labelCol = 'label')\n",
        "#Aplicamos el metodo fit\n",
        "decision_tree = decision_tree.fit(dataset_dataframe)\n",
        "#Utilizamos el metodo 'transform' como el metodo predict\n",
        "y = decision_tree.transform(dataset_dataframe)"
      ]
    },
    {
      "cell_type": "code",
      "execution_count": null,
      "metadata": {
        "colab": {
          "base_uri": "https://localhost:8080/"
        },
        "id": "Gjk7V7diE-18",
        "outputId": "38e558a6-943a-492a-ce66-e7013fb975f3"
      },
      "outputs": [
        {
          "output_type": "stream",
          "name": "stdout",
          "text": [
            "+----------+\n",
            "|prediction|\n",
            "+----------+\n",
            "|       0.0|\n",
            "|       0.0|\n",
            "|       0.0|\n",
            "|       0.0|\n",
            "|       0.0|\n",
            "+----------+\n",
            "only showing top 5 rows\n",
            "\n"
          ]
        }
      ],
      "source": [
        "y.select(\"prediction\").show(5)"
      ]
    },
    {
      "cell_type": "code",
      "execution_count": null,
      "metadata": {
        "colab": {
          "base_uri": "https://localhost:8080/"
        },
        "id": "-jhF8NDeFn1_",
        "outputId": "4c745d4f-8cae-4039-911c-2b40f40a943d"
      },
      "outputs": [
        {
          "output_type": "stream",
          "name": "stdout",
          "text": [
            "+--------------------+-----+\n",
            "|            features|label|\n",
            "+--------------------+-----+\n",
            "|[3.0,12.0,3.0,2.0...|  1.0|\n",
            "|[1.0,9.0,4.0,6.0,...|  1.0|\n",
            "|[1.0,4.0,3.0,13.0...|  1.0|\n",
            "|[3.0,10.0,2.0,7.0...|  0.0|\n",
            "|[1.0,3.0,4.0,5.0,...|  0.0|\n",
            "|[2.0,6.0,4.0,11.0...|  0.0|\n",
            "|[3.0,2.0,4.0,9.0,...|  0.0|\n",
            "|[4.0,4.0,3.0,13.0...|  0.0|\n",
            "|[1.0,9.0,3.0,8.0,...|  0.0|\n",
            "|[4.0,7.0,3.0,12.0...|  0.0|\n",
            "|[2.0,12.0,1.0,3.0...|  0.0|\n",
            "|[4.0,2.0,2.0,9.0,...|  0.0|\n",
            "|[1.0,13.0,2.0,6.0...|  1.0|\n",
            "|[3.0,8.0,2.0,7.0,...|  0.0|\n",
            "|[2.0,10.0,1.0,11....|  0.0|\n",
            "+--------------------+-----+\n",
            "only showing top 15 rows\n",
            "\n"
          ]
        }
      ],
      "source": [
        "dataset_dataframe.show(15)"
      ]
    },
    {
      "cell_type": "markdown",
      "source": [
        "##Pipeline (Standar Scaler + Decision Tree)"
      ],
      "metadata": {
        "id": "SyyP3_A8Jkbs"
      }
    },
    {
      "cell_type": "markdown",
      "source": [
        "Ejemplo de la funcion de estandarizacion"
      ],
      "metadata": {
        "id": "EoLIK-OFN_wf"
      }
    },
    {
      "cell_type": "code",
      "execution_count": null,
      "metadata": {
        "id": "TKye6ZBgGQcF"
      },
      "outputs": [],
      "source": [
        "from pyspark.ml.feature import StandardScaler\n",
        "scaler = StandardScaler(inputCol=\"features\", outputCol=\"scaledFeatures\",withStd=True, withMean=True)\n",
        "scaler = scaler.fit(dataset_dataframe)"
      ]
    },
    {
      "cell_type": "markdown",
      "source": [
        "Crea un nuevo objeto con los atributos escalados"
      ],
      "metadata": {
        "id": "vSX9c-z6OCks"
      }
    },
    {
      "cell_type": "code",
      "execution_count": null,
      "metadata": {
        "colab": {
          "base_uri": "https://localhost:8080/"
        },
        "id": "XJTv4olsIeu_",
        "outputId": "721f628f-fce0-4d1a-d6e0-9be656fa82f4"
      },
      "outputs": [
        {
          "output_type": "stream",
          "name": "stdout",
          "text": [
            "+--------------------+-----+--------------------+\n",
            "|            features|label|      scaledFeatures|\n",
            "+--------------------+-----+--------------------+\n",
            "|[3.0,12.0,3.0,2.0...|  1.0|[0.44670994050467...|\n",
            "|[1.0,9.0,4.0,6.0,...|  1.0|[-1.3426208973049...|\n",
            "|[1.0,4.0,3.0,13.0...|  1.0|[-1.3426208973049...|\n",
            "|[3.0,10.0,2.0,7.0...|  0.0|[0.44670994050467...|\n",
            "|[1.0,3.0,4.0,5.0,...|  0.0|[-1.3426208973049...|\n",
            "+--------------------+-----+--------------------+\n",
            "only showing top 5 rows\n",
            "\n"
          ]
        }
      ],
      "source": [
        "data_scaled = scaler.transform(dataset_dataframe)\n",
        "data_scaled.show(5)"
      ]
    },
    {
      "cell_type": "markdown",
      "source": [
        "**Se crea un pipeline, que estandariza primero los atributos y finalmente ajusta el modelo**"
      ],
      "metadata": {
        "id": "O9Ou2mVqOGz5"
      }
    },
    {
      "cell_type": "code",
      "execution_count": null,
      "metadata": {
        "id": "6W4CFRH9Lp7C"
      },
      "outputs": [],
      "source": [
        "from pyspark.ml.feature import StandardScaler\n",
        "from pyspark.ml import Pipeline\n",
        "scaler = StandardScaler(inputCol=\"features\", outputCol=\"scaledFeatures\",withStd=True, withMean=True)\n",
        "decision_tree_std = DecisionTreeClassifier(featuresCol = 'scaledFeatures', labelCol = 'label')\n",
        "model = Pipeline(stages = [scaler, decision_tree_std])\n",
        "model = model.fit(dataset_dataframe)\n",
        "\n",
        "y = model.transform(dataset_dataframe)"
      ]
    },
    {
      "cell_type": "code",
      "execution_count": null,
      "metadata": {
        "colab": {
          "base_uri": "https://localhost:8080/"
        },
        "id": "7zJ-fTGZOOw9",
        "outputId": "e20e49bf-107a-4e84-91ca-7b16bf440436"
      },
      "outputs": [
        {
          "output_type": "stream",
          "name": "stdout",
          "text": [
            "+----------+\n",
            "|prediction|\n",
            "+----------+\n",
            "|       0.0|\n",
            "|       0.0|\n",
            "|       0.0|\n",
            "|       0.0|\n",
            "|       0.0|\n",
            "+----------+\n",
            "only showing top 5 rows\n",
            "\n"
          ]
        }
      ],
      "source": [
        "y.select('prediction').show(5)"
      ]
    },
    {
      "cell_type": "markdown",
      "source": [
        "#Breast Cancer"
      ],
      "metadata": {
        "id": "Ws17DKugNWGx"
      }
    },
    {
      "cell_type": "code",
      "source": [
        "from pyspark.sql import SparkSession\n",
        "\n",
        "spark = SparkSession.builder.appName(\"Pandas to Spark\").getOrCreate()"
      ],
      "metadata": {
        "id": "VsODao9_QQJr"
      },
      "execution_count": null,
      "outputs": []
    },
    {
      "cell_type": "code",
      "source": [
        "import pandas as pd\n",
        "from sklearn.datasets import load_iris\n",
        "dataset = load_iris()\n",
        "X = dataset['data']\n",
        "y = dataset['target']"
      ],
      "metadata": {
        "id": "hbtmgsjxNuM_"
      },
      "execution_count": null,
      "outputs": []
    },
    {
      "cell_type": "code",
      "source": [
        "data=pd.concat([pd.DataFrame(X, columns=['x1', 'x2', 'x3', 'x4']),pd.DataFrame(y, columns=['class'])], axis=1)\n",
        "data.head()"
      ],
      "metadata": {
        "colab": {
          "base_uri": "https://localhost:8080/",
          "height": 206
        },
        "id": "wA2mxvjrNwZL",
        "outputId": "0795b613-5fe1-4b5c-89f2-2768f5552fbd"
      },
      "execution_count": null,
      "outputs": [
        {
          "output_type": "execute_result",
          "data": {
            "text/plain": [
              "    x1   x2   x3   x4  class\n",
              "0  5.1  3.5  1.4  0.2      0\n",
              "1  4.9  3.0  1.4  0.2      0\n",
              "2  4.7  3.2  1.3  0.2      0\n",
              "3  4.6  3.1  1.5  0.2      0\n",
              "4  5.0  3.6  1.4  0.2      0"
            ],
            "text/html": [
              "\n",
              "  <div id=\"df-8710027e-d248-4c59-8129-19322bf93dac\" class=\"colab-df-container\">\n",
              "    <div>\n",
              "<style scoped>\n",
              "    .dataframe tbody tr th:only-of-type {\n",
              "        vertical-align: middle;\n",
              "    }\n",
              "\n",
              "    .dataframe tbody tr th {\n",
              "        vertical-align: top;\n",
              "    }\n",
              "\n",
              "    .dataframe thead th {\n",
              "        text-align: right;\n",
              "    }\n",
              "</style>\n",
              "<table border=\"1\" class=\"dataframe\">\n",
              "  <thead>\n",
              "    <tr style=\"text-align: right;\">\n",
              "      <th></th>\n",
              "      <th>x1</th>\n",
              "      <th>x2</th>\n",
              "      <th>x3</th>\n",
              "      <th>x4</th>\n",
              "      <th>class</th>\n",
              "    </tr>\n",
              "  </thead>\n",
              "  <tbody>\n",
              "    <tr>\n",
              "      <th>0</th>\n",
              "      <td>5.1</td>\n",
              "      <td>3.5</td>\n",
              "      <td>1.4</td>\n",
              "      <td>0.2</td>\n",
              "      <td>0</td>\n",
              "    </tr>\n",
              "    <tr>\n",
              "      <th>1</th>\n",
              "      <td>4.9</td>\n",
              "      <td>3.0</td>\n",
              "      <td>1.4</td>\n",
              "      <td>0.2</td>\n",
              "      <td>0</td>\n",
              "    </tr>\n",
              "    <tr>\n",
              "      <th>2</th>\n",
              "      <td>4.7</td>\n",
              "      <td>3.2</td>\n",
              "      <td>1.3</td>\n",
              "      <td>0.2</td>\n",
              "      <td>0</td>\n",
              "    </tr>\n",
              "    <tr>\n",
              "      <th>3</th>\n",
              "      <td>4.6</td>\n",
              "      <td>3.1</td>\n",
              "      <td>1.5</td>\n",
              "      <td>0.2</td>\n",
              "      <td>0</td>\n",
              "    </tr>\n",
              "    <tr>\n",
              "      <th>4</th>\n",
              "      <td>5.0</td>\n",
              "      <td>3.6</td>\n",
              "      <td>1.4</td>\n",
              "      <td>0.2</td>\n",
              "      <td>0</td>\n",
              "    </tr>\n",
              "  </tbody>\n",
              "</table>\n",
              "</div>\n",
              "    <div class=\"colab-df-buttons\">\n",
              "\n",
              "  <div class=\"colab-df-container\">\n",
              "    <button class=\"colab-df-convert\" onclick=\"convertToInteractive('df-8710027e-d248-4c59-8129-19322bf93dac')\"\n",
              "            title=\"Convert this dataframe to an interactive table.\"\n",
              "            style=\"display:none;\">\n",
              "\n",
              "  <svg xmlns=\"http://www.w3.org/2000/svg\" height=\"24px\" viewBox=\"0 -960 960 960\">\n",
              "    <path d=\"M120-120v-720h720v720H120Zm60-500h600v-160H180v160Zm220 220h160v-160H400v160Zm0 220h160v-160H400v160ZM180-400h160v-160H180v160Zm440 0h160v-160H620v160ZM180-180h160v-160H180v160Zm440 0h160v-160H620v160Z\"/>\n",
              "  </svg>\n",
              "    </button>\n",
              "\n",
              "  <style>\n",
              "    .colab-df-container {\n",
              "      display:flex;\n",
              "      gap: 12px;\n",
              "    }\n",
              "\n",
              "    .colab-df-convert {\n",
              "      background-color: #E8F0FE;\n",
              "      border: none;\n",
              "      border-radius: 50%;\n",
              "      cursor: pointer;\n",
              "      display: none;\n",
              "      fill: #1967D2;\n",
              "      height: 32px;\n",
              "      padding: 0 0 0 0;\n",
              "      width: 32px;\n",
              "    }\n",
              "\n",
              "    .colab-df-convert:hover {\n",
              "      background-color: #E2EBFA;\n",
              "      box-shadow: 0px 1px 2px rgba(60, 64, 67, 0.3), 0px 1px 3px 1px rgba(60, 64, 67, 0.15);\n",
              "      fill: #174EA6;\n",
              "    }\n",
              "\n",
              "    .colab-df-buttons div {\n",
              "      margin-bottom: 4px;\n",
              "    }\n",
              "\n",
              "    [theme=dark] .colab-df-convert {\n",
              "      background-color: #3B4455;\n",
              "      fill: #D2E3FC;\n",
              "    }\n",
              "\n",
              "    [theme=dark] .colab-df-convert:hover {\n",
              "      background-color: #434B5C;\n",
              "      box-shadow: 0px 1px 3px 1px rgba(0, 0, 0, 0.15);\n",
              "      filter: drop-shadow(0px 1px 2px rgba(0, 0, 0, 0.3));\n",
              "      fill: #FFFFFF;\n",
              "    }\n",
              "  </style>\n",
              "\n",
              "    <script>\n",
              "      const buttonEl =\n",
              "        document.querySelector('#df-8710027e-d248-4c59-8129-19322bf93dac button.colab-df-convert');\n",
              "      buttonEl.style.display =\n",
              "        google.colab.kernel.accessAllowed ? 'block' : 'none';\n",
              "\n",
              "      async function convertToInteractive(key) {\n",
              "        const element = document.querySelector('#df-8710027e-d248-4c59-8129-19322bf93dac');\n",
              "        const dataTable =\n",
              "          await google.colab.kernel.invokeFunction('convertToInteractive',\n",
              "                                                    [key], {});\n",
              "        if (!dataTable) return;\n",
              "\n",
              "        const docLinkHtml = 'Like what you see? Visit the ' +\n",
              "          '<a target=\"_blank\" href=https://colab.research.google.com/notebooks/data_table.ipynb>data table notebook</a>'\n",
              "          + ' to learn more about interactive tables.';\n",
              "        element.innerHTML = '';\n",
              "        dataTable['output_type'] = 'display_data';\n",
              "        await google.colab.output.renderOutput(dataTable, element);\n",
              "        const docLink = document.createElement('div');\n",
              "        docLink.innerHTML = docLinkHtml;\n",
              "        element.appendChild(docLink);\n",
              "      }\n",
              "    </script>\n",
              "  </div>\n",
              "\n",
              "\n",
              "<div id=\"df-7a9c6cae-47dd-4117-8885-f47733f398e1\">\n",
              "  <button class=\"colab-df-quickchart\" onclick=\"quickchart('df-7a9c6cae-47dd-4117-8885-f47733f398e1')\"\n",
              "            title=\"Suggest charts.\"\n",
              "            style=\"display:none;\">\n",
              "\n",
              "<svg xmlns=\"http://www.w3.org/2000/svg\" height=\"24px\"viewBox=\"0 0 24 24\"\n",
              "     width=\"24px\">\n",
              "    <g>\n",
              "        <path d=\"M19 3H5c-1.1 0-2 .9-2 2v14c0 1.1.9 2 2 2h14c1.1 0 2-.9 2-2V5c0-1.1-.9-2-2-2zM9 17H7v-7h2v7zm4 0h-2V7h2v10zm4 0h-2v-4h2v4z\"/>\n",
              "    </g>\n",
              "</svg>\n",
              "  </button>\n",
              "\n",
              "<style>\n",
              "  .colab-df-quickchart {\n",
              "      --bg-color: #E8F0FE;\n",
              "      --fill-color: #1967D2;\n",
              "      --hover-bg-color: #E2EBFA;\n",
              "      --hover-fill-color: #174EA6;\n",
              "      --disabled-fill-color: #AAA;\n",
              "      --disabled-bg-color: #DDD;\n",
              "  }\n",
              "\n",
              "  [theme=dark] .colab-df-quickchart {\n",
              "      --bg-color: #3B4455;\n",
              "      --fill-color: #D2E3FC;\n",
              "      --hover-bg-color: #434B5C;\n",
              "      --hover-fill-color: #FFFFFF;\n",
              "      --disabled-bg-color: #3B4455;\n",
              "      --disabled-fill-color: #666;\n",
              "  }\n",
              "\n",
              "  .colab-df-quickchart {\n",
              "    background-color: var(--bg-color);\n",
              "    border: none;\n",
              "    border-radius: 50%;\n",
              "    cursor: pointer;\n",
              "    display: none;\n",
              "    fill: var(--fill-color);\n",
              "    height: 32px;\n",
              "    padding: 0;\n",
              "    width: 32px;\n",
              "  }\n",
              "\n",
              "  .colab-df-quickchart:hover {\n",
              "    background-color: var(--hover-bg-color);\n",
              "    box-shadow: 0 1px 2px rgba(60, 64, 67, 0.3), 0 1px 3px 1px rgba(60, 64, 67, 0.15);\n",
              "    fill: var(--button-hover-fill-color);\n",
              "  }\n",
              "\n",
              "  .colab-df-quickchart-complete:disabled,\n",
              "  .colab-df-quickchart-complete:disabled:hover {\n",
              "    background-color: var(--disabled-bg-color);\n",
              "    fill: var(--disabled-fill-color);\n",
              "    box-shadow: none;\n",
              "  }\n",
              "\n",
              "  .colab-df-spinner {\n",
              "    border: 2px solid var(--fill-color);\n",
              "    border-color: transparent;\n",
              "    border-bottom-color: var(--fill-color);\n",
              "    animation:\n",
              "      spin 1s steps(1) infinite;\n",
              "  }\n",
              "\n",
              "  @keyframes spin {\n",
              "    0% {\n",
              "      border-color: transparent;\n",
              "      border-bottom-color: var(--fill-color);\n",
              "      border-left-color: var(--fill-color);\n",
              "    }\n",
              "    20% {\n",
              "      border-color: transparent;\n",
              "      border-left-color: var(--fill-color);\n",
              "      border-top-color: var(--fill-color);\n",
              "    }\n",
              "    30% {\n",
              "      border-color: transparent;\n",
              "      border-left-color: var(--fill-color);\n",
              "      border-top-color: var(--fill-color);\n",
              "      border-right-color: var(--fill-color);\n",
              "    }\n",
              "    40% {\n",
              "      border-color: transparent;\n",
              "      border-right-color: var(--fill-color);\n",
              "      border-top-color: var(--fill-color);\n",
              "    }\n",
              "    60% {\n",
              "      border-color: transparent;\n",
              "      border-right-color: var(--fill-color);\n",
              "    }\n",
              "    80% {\n",
              "      border-color: transparent;\n",
              "      border-right-color: var(--fill-color);\n",
              "      border-bottom-color: var(--fill-color);\n",
              "    }\n",
              "    90% {\n",
              "      border-color: transparent;\n",
              "      border-bottom-color: var(--fill-color);\n",
              "    }\n",
              "  }\n",
              "</style>\n",
              "\n",
              "  <script>\n",
              "    async function quickchart(key) {\n",
              "      const quickchartButtonEl =\n",
              "        document.querySelector('#' + key + ' button');\n",
              "      quickchartButtonEl.disabled = true;  // To prevent multiple clicks.\n",
              "      quickchartButtonEl.classList.add('colab-df-spinner');\n",
              "      try {\n",
              "        const charts = await google.colab.kernel.invokeFunction(\n",
              "            'suggestCharts', [key], {});\n",
              "      } catch (error) {\n",
              "        console.error('Error during call to suggestCharts:', error);\n",
              "      }\n",
              "      quickchartButtonEl.classList.remove('colab-df-spinner');\n",
              "      quickchartButtonEl.classList.add('colab-df-quickchart-complete');\n",
              "    }\n",
              "    (() => {\n",
              "      let quickchartButtonEl =\n",
              "        document.querySelector('#df-7a9c6cae-47dd-4117-8885-f47733f398e1 button');\n",
              "      quickchartButtonEl.style.display =\n",
              "        google.colab.kernel.accessAllowed ? 'block' : 'none';\n",
              "    })();\n",
              "  </script>\n",
              "</div>\n",
              "    </div>\n",
              "  </div>\n"
            ]
          },
          "metadata": {},
          "execution_count": 114
        }
      ]
    },
    {
      "cell_type": "markdown",
      "source": [
        "**Pasamos de un Pandas dataframe a un Spark Dataframe**"
      ],
      "metadata": {
        "id": "Ww_nzH6ZO9i4"
      }
    },
    {
      "cell_type": "code",
      "source": [
        "data_spark=spark_session.createDataFrame(data)"
      ],
      "metadata": {
        "colab": {
          "base_uri": "https://localhost:8080/"
        },
        "id": "kLzYAykiP-IL",
        "outputId": "7ba1339b-7a07-4696-847e-a4335a0af928"
      },
      "execution_count": null,
      "outputs": [
        {
          "output_type": "stream",
          "name": "stderr",
          "text": [
            "/content/spark-3.0.0-bin-hadoop3.2/python/pyspark/sql/pandas/conversion.py:327: FutureWarning: iteritems is deprecated and will be removed in a future version. Use .items instead.\n",
            "  for column, series in pdf.iteritems():\n"
          ]
        }
      ]
    },
    {
      "cell_type": "code",
      "source": [
        "data_spark.show(5)"
      ],
      "metadata": {
        "colab": {
          "base_uri": "https://localhost:8080/"
        },
        "id": "hiBaz2aWQco4",
        "outputId": "b76d45e6-9245-472c-c84b-1f012fa74afa"
      },
      "execution_count": null,
      "outputs": [
        {
          "output_type": "stream",
          "name": "stdout",
          "text": [
            "+---+---+---+---+-----+\n",
            "| x1| x2| x3| x4|class|\n",
            "+---+---+---+---+-----+\n",
            "|5.1|3.5|1.4|0.2|    0|\n",
            "|4.9|3.0|1.4|0.2|    0|\n",
            "|4.7|3.2|1.3|0.2|    0|\n",
            "|4.6|3.1|1.5|0.2|    0|\n",
            "|5.0|3.6|1.4|0.2|    0|\n",
            "+---+---+---+---+-----+\n",
            "only showing top 5 rows\n",
            "\n"
          ]
        }
      ]
    },
    {
      "cell_type": "markdown",
      "source": [
        "**Preparamos nuestros datos de forma similar a lo que se hizo en el ejemplo anterior**"
      ],
      "metadata": {
        "id": "Y7_y9o6dPE3T"
      }
    },
    {
      "cell_type": "code",
      "source": [
        "from pyspark.ml.classification import NaiveBayes\n",
        "\n",
        "from pyspark.ml.feature import StringIndexer, VectorIndexer\n",
        "\n",
        "from pyspark.ml.feature import VectorAssembler, StringIndexer\n",
        "\n",
        "features = data_spark.columns[:-1]\n",
        "label1= data_spark.columns[-1]\n",
        "\n",
        "featuresCol = VectorAssembler(inputCols = features, outputCol = 'features')\n",
        "dataset_dataframe = featuresCol.transform(data_spark)\n",
        "labelCol = StringIndexer(inputCol = label1, outputCol = 'label').fit(data_spark)\n",
        "dataset_dataframe = labelCol.transform(dataset_dataframe)\n",
        "dataset_dataframe = dataset_dataframe.select('features', 'label')"
      ],
      "metadata": {
        "id": "NbA69EjvRFNV"
      },
      "execution_count": null,
      "outputs": []
    },
    {
      "cell_type": "code",
      "source": [
        "dataset_dataframe.show()"
      ],
      "metadata": {
        "colab": {
          "base_uri": "https://localhost:8080/"
        },
        "id": "ZYOyn4nvUVO9",
        "outputId": "1b05c3bd-3526-4fe2-a2b6-67244c51e4a3"
      },
      "execution_count": null,
      "outputs": [
        {
          "output_type": "stream",
          "name": "stdout",
          "text": [
            "+-----------------+-----+\n",
            "|         features|label|\n",
            "+-----------------+-----+\n",
            "|[5.1,3.5,1.4,0.2]|  0.0|\n",
            "|[4.9,3.0,1.4,0.2]|  0.0|\n",
            "|[4.7,3.2,1.3,0.2]|  0.0|\n",
            "|[4.6,3.1,1.5,0.2]|  0.0|\n",
            "|[5.0,3.6,1.4,0.2]|  0.0|\n",
            "|[5.4,3.9,1.7,0.4]|  0.0|\n",
            "|[4.6,3.4,1.4,0.3]|  0.0|\n",
            "|[5.0,3.4,1.5,0.2]|  0.0|\n",
            "|[4.4,2.9,1.4,0.2]|  0.0|\n",
            "|[4.9,3.1,1.5,0.1]|  0.0|\n",
            "|[5.4,3.7,1.5,0.2]|  0.0|\n",
            "|[4.8,3.4,1.6,0.2]|  0.0|\n",
            "|[4.8,3.0,1.4,0.1]|  0.0|\n",
            "|[4.3,3.0,1.1,0.1]|  0.0|\n",
            "|[5.8,4.0,1.2,0.2]|  0.0|\n",
            "|[5.7,4.4,1.5,0.4]|  0.0|\n",
            "|[5.4,3.9,1.3,0.4]|  0.0|\n",
            "|[5.1,3.5,1.4,0.3]|  0.0|\n",
            "|[5.7,3.8,1.7,0.3]|  0.0|\n",
            "|[5.1,3.8,1.5,0.3]|  0.0|\n",
            "+-----------------+-----+\n",
            "only showing top 20 rows\n",
            "\n"
          ]
        }
      ]
    },
    {
      "cell_type": "markdown",
      "source": [
        "##Decision Tree Classifier"
      ],
      "metadata": {
        "id": "RufSfdnVPLIk"
      }
    },
    {
      "cell_type": "code",
      "source": [
        "from pyspark.ml.classification import DecisionTreeClassifier\n",
        "\n",
        "decision_tree = DecisionTreeClassifier(featuresCol = 'features', labelCol = 'label')\n",
        "decision_tree = decision_tree.fit(dataset_dataframe)\n",
        "\n",
        "y = decision_tree.transform(dataset_dataframe)"
      ],
      "metadata": {
        "id": "lWqsGPP3StHy"
      },
      "execution_count": null,
      "outputs": []
    },
    {
      "cell_type": "code",
      "source": [
        "y.show()"
      ],
      "metadata": {
        "colab": {
          "base_uri": "https://localhost:8080/"
        },
        "id": "SqNegZOeU93B",
        "outputId": "77606ead-a5a7-4f90-ea1a-7a7050483192"
      },
      "execution_count": null,
      "outputs": [
        {
          "output_type": "stream",
          "name": "stdout",
          "text": [
            "+-----------------+-----+--------------+-------------+----------+\n",
            "|         features|label| rawPrediction|  probability|prediction|\n",
            "+-----------------+-----+--------------+-------------+----------+\n",
            "|[5.1,3.5,1.4,0.2]|  0.0|[50.0,0.0,0.0]|[1.0,0.0,0.0]|       0.0|\n",
            "|[4.9,3.0,1.4,0.2]|  0.0|[50.0,0.0,0.0]|[1.0,0.0,0.0]|       0.0|\n",
            "|[4.7,3.2,1.3,0.2]|  0.0|[50.0,0.0,0.0]|[1.0,0.0,0.0]|       0.0|\n",
            "|[4.6,3.1,1.5,0.2]|  0.0|[50.0,0.0,0.0]|[1.0,0.0,0.0]|       0.0|\n",
            "|[5.0,3.6,1.4,0.2]|  0.0|[50.0,0.0,0.0]|[1.0,0.0,0.0]|       0.0|\n",
            "|[5.4,3.9,1.7,0.4]|  0.0|[50.0,0.0,0.0]|[1.0,0.0,0.0]|       0.0|\n",
            "|[4.6,3.4,1.4,0.3]|  0.0|[50.0,0.0,0.0]|[1.0,0.0,0.0]|       0.0|\n",
            "|[5.0,3.4,1.5,0.2]|  0.0|[50.0,0.0,0.0]|[1.0,0.0,0.0]|       0.0|\n",
            "|[4.4,2.9,1.4,0.2]|  0.0|[50.0,0.0,0.0]|[1.0,0.0,0.0]|       0.0|\n",
            "|[4.9,3.1,1.5,0.1]|  0.0|[50.0,0.0,0.0]|[1.0,0.0,0.0]|       0.0|\n",
            "|[5.4,3.7,1.5,0.2]|  0.0|[50.0,0.0,0.0]|[1.0,0.0,0.0]|       0.0|\n",
            "|[4.8,3.4,1.6,0.2]|  0.0|[50.0,0.0,0.0]|[1.0,0.0,0.0]|       0.0|\n",
            "|[4.8,3.0,1.4,0.1]|  0.0|[50.0,0.0,0.0]|[1.0,0.0,0.0]|       0.0|\n",
            "|[4.3,3.0,1.1,0.1]|  0.0|[50.0,0.0,0.0]|[1.0,0.0,0.0]|       0.0|\n",
            "|[5.8,4.0,1.2,0.2]|  0.0|[50.0,0.0,0.0]|[1.0,0.0,0.0]|       0.0|\n",
            "|[5.7,4.4,1.5,0.4]|  0.0|[50.0,0.0,0.0]|[1.0,0.0,0.0]|       0.0|\n",
            "|[5.4,3.9,1.3,0.4]|  0.0|[50.0,0.0,0.0]|[1.0,0.0,0.0]|       0.0|\n",
            "|[5.1,3.5,1.4,0.3]|  0.0|[50.0,0.0,0.0]|[1.0,0.0,0.0]|       0.0|\n",
            "|[5.7,3.8,1.7,0.3]|  0.0|[50.0,0.0,0.0]|[1.0,0.0,0.0]|       0.0|\n",
            "|[5.1,3.8,1.5,0.3]|  0.0|[50.0,0.0,0.0]|[1.0,0.0,0.0]|       0.0|\n",
            "+-----------------+-----+--------------+-------------+----------+\n",
            "only showing top 20 rows\n",
            "\n"
          ]
        }
      ]
    },
    {
      "cell_type": "code",
      "source": [
        "y.select('prediction').show(5)"
      ],
      "metadata": {
        "colab": {
          "base_uri": "https://localhost:8080/"
        },
        "id": "9g64kjc_UeOk",
        "outputId": "dcbc5b01-0ecc-403e-dc3f-8b02a4c2e2c3"
      },
      "execution_count": null,
      "outputs": [
        {
          "output_type": "stream",
          "name": "stdout",
          "text": [
            "+----------+\n",
            "|prediction|\n",
            "+----------+\n",
            "|       0.0|\n",
            "|       0.0|\n",
            "|       0.0|\n",
            "|       0.0|\n",
            "|       0.0|\n",
            "+----------+\n",
            "only showing top 5 rows\n",
            "\n"
          ]
        }
      ]
    },
    {
      "cell_type": "code",
      "source": [
        "y.where(y.prediction == 1.0).show(5)"
      ],
      "metadata": {
        "colab": {
          "base_uri": "https://localhost:8080/"
        },
        "id": "KDDeHe7dVfPL",
        "outputId": "e068fd1b-1ad7-414e-d432-5aa8c455ab80"
      },
      "execution_count": null,
      "outputs": [
        {
          "output_type": "stream",
          "name": "stdout",
          "text": [
            "+-----------------+-----+--------------+-------------+----------+\n",
            "|         features|label| rawPrediction|  probability|prediction|\n",
            "+-----------------+-----+--------------+-------------+----------+\n",
            "|[7.0,3.2,4.7,1.4]|  1.0|[0.0,47.0,0.0]|[0.0,1.0,0.0]|       1.0|\n",
            "|[6.4,3.2,4.5,1.5]|  1.0|[0.0,47.0,0.0]|[0.0,1.0,0.0]|       1.0|\n",
            "|[6.9,3.1,4.9,1.5]|  1.0|[0.0,47.0,0.0]|[0.0,1.0,0.0]|       1.0|\n",
            "|[5.5,2.3,4.0,1.3]|  1.0|[0.0,47.0,0.0]|[0.0,1.0,0.0]|       1.0|\n",
            "|[6.5,2.8,4.6,1.5]|  1.0|[0.0,47.0,0.0]|[0.0,1.0,0.0]|       1.0|\n",
            "+-----------------+-----+--------------+-------------+----------+\n",
            "only showing top 5 rows\n",
            "\n"
          ]
        }
      ]
    },
    {
      "cell_type": "markdown",
      "source": [
        "##Pipeline (Standar Scaler + Decision Tree)"
      ],
      "metadata": {
        "id": "4YUffQv4PRgv"
      }
    },
    {
      "cell_type": "code",
      "source": [
        "from pyspark.ml.feature import StandardScaler\n",
        "from pyspark.ml import Pipeline\n",
        "scaler = StandardScaler(inputCol=\"features\", outputCol=\"scaledFeatures\",withStd=True, withMean=True)\n",
        "decision_tree_std = DecisionTreeClassifier(featuresCol = 'scaledFeatures', labelCol = 'label')\n",
        "model = Pipeline(stages = [scaler, decision_tree_std])\n",
        "model = model.fit(dataset_dataframe)\n",
        "\n",
        "y = model.transform(dataset_dataframe)\n",
        "y.select('prediction').show(5)"
      ],
      "metadata": {
        "colab": {
          "base_uri": "https://localhost:8080/"
        },
        "id": "TpmpNu9AX34o",
        "outputId": "49ff2160-2e0a-4608-8147-c4d95b9ae535"
      },
      "execution_count": null,
      "outputs": [
        {
          "output_type": "stream",
          "name": "stdout",
          "text": [
            "+----------+\n",
            "|prediction|\n",
            "+----------+\n",
            "|       0.0|\n",
            "|       0.0|\n",
            "|       0.0|\n",
            "|       0.0|\n",
            "|       0.0|\n",
            "+----------+\n",
            "only showing top 5 rows\n",
            "\n"
          ]
        }
      ]
    },
    {
      "cell_type": "markdown",
      "source": [
        "**Mas algoritmos**"
      ],
      "metadata": {
        "id": "rY7cJ9hBPY4h"
      }
    },
    {
      "cell_type": "code",
      "source": [
        "from pyspark.ml.classification import RandomForestClassifier, MultilayerPerceptronClassifier"
      ],
      "metadata": {
        "id": "BxRIqJTLYyei"
      },
      "execution_count": null,
      "outputs": []
    }
  ],
  "metadata": {
    "colab": {
      "provenance": [],
      "toc_visible": true
    },
    "gpuClass": "standard",
    "kernelspec": {
      "display_name": "Python 3",
      "name": "python3"
    },
    "language_info": {
      "name": "python"
    }
  },
  "nbformat": 4,
  "nbformat_minor": 0
}